{
  "nbformat": 4,
  "nbformat_minor": 0,
  "metadata": {
    "colab": {
      "name": "colab.ipynb",
      "version": "0.3.2",
      "provenance": [],
      "collapsed_sections": [],
      "include_colab_link": true
    },
    "kernelspec": {
      "name": "python3",
      "display_name": "Python 3"
    },
    "accelerator": "GPU"
  },
  "cells": [
    {
      "cell_type": "markdown",
      "metadata": {
        "id": "view-in-github",
        "colab_type": "text"
      },
      "source": [
        "<a href=\"https://colab.research.google.com/github/Arxtage/FaceRecogition-Sbertex/blob/master/u-net.ipynb\" target=\"_parent\"><img src=\"https://colab.research.google.com/assets/colab-badge.svg\" alt=\"Open In Colab\"/></a>"
      ]
    },
    {
      "metadata": {
        "id": "M8T4ksCWUpDF",
        "colab_type": "text"
      },
      "cell_type": "markdown",
      "source": [
        ""
      ]
    },
    {
      "metadata": {
        "id": "2QgHzc0I7ieV",
        "colab_type": "code",
        "colab": {
          "base_uri": "https://localhost:8080/",
          "height": 34
        },
        "outputId": "fab59d11-ed0f-43c0-840f-b0b6f5cbf7a2"
      },
      "cell_type": "code",
      "source": [
        "!git clone https://github.com/Arxtage/fun"
      ],
      "execution_count": 1,
      "outputs": [
        {
          "output_type": "stream",
          "text": [
            "fatal: destination path 'fun' already exists and is not an empty directory.\n"
          ],
          "name": "stdout"
        }
      ]
    },
    {
      "metadata": {
        "id": "hyVY3AFCAzwm",
        "colab_type": "code",
        "colab": {}
      },
      "cell_type": "code",
      "source": [
        "import os\n"
      ],
      "execution_count": 0,
      "outputs": []
    },
    {
      "metadata": {
        "id": "EeqPe9EbA5kD",
        "colab_type": "code",
        "colab": {}
      },
      "cell_type": "code",
      "source": [
        "os.chdir('fun/idog')"
      ],
      "execution_count": 0,
      "outputs": []
    },
    {
      "metadata": {
        "id": "ElQiKyaWU3HY",
        "colab_type": "code",
        "colab": {
          "base_uri": "https://localhost:8080/",
          "height": 68
        },
        "outputId": "f2221015-361b-43de-a5ab-0f45e6b446f7"
      },
      "cell_type": "code",
      "source": [
        "!ls"
      ],
      "execution_count": 3,
      "outputs": [
        {
          "output_type": "stream",
          "text": [
            "AR_blocks_4_fea_8_IOU_0.1_norm_Tr  ngrok\t\t\t   notebooks\n",
            "idog\t\t\t\t   ngrok-stable-linux-amd64.zip    README.md\n",
            "lib\t\t\t\t   ngrok-stable-linux-amd64.zip.1  use_cases\n"
          ],
          "name": "stdout"
        }
      ]
    },
    {
      "metadata": {
        "id": "iqR6JNdYKOWd",
        "colab_type": "text"
      },
      "cell_type": "markdown",
      "source": [
        "# New Section"
      ]
    },
    {
      "metadata": {
        "id": "aTbcFNQUDMyl",
        "colab_type": "code",
        "colab": {
          "base_uri": "https://localhost:8080/",
          "height": 238
        },
        "outputId": "ca5a8fa7-14f9-4424-9e3f-2193270e8fd2"
      },
      "cell_type": "code",
      "source": [
        "!wget https://bin.equinox.io/c/4VmDzA7iaHb/ngrok-stable-linux-amd64.zip\n",
        "!unzip ngrok-stable-linux-amd64.zip"
      ],
      "execution_count": 10,
      "outputs": [
        {
          "output_type": "stream",
          "text": [
            "--2019-03-10 22:35:38--  https://bin.equinox.io/c/4VmDzA7iaHb/ngrok-stable-linux-amd64.zip\n",
            "Resolving bin.equinox.io (bin.equinox.io)... 52.203.102.189, 52.202.60.111, 52.203.53.176, ...\n",
            "Connecting to bin.equinox.io (bin.equinox.io)|52.203.102.189|:443... connected.\n",
            "HTTP request sent, awaiting response... 200 OK\n",
            "Length: 14893410 (14M) [application/octet-stream]\n",
            "Saving to: ‘ngrok-stable-linux-amd64.zip.2’\n",
            "\n",
            "ngrok-stable-linux- 100%[===================>]  14.20M  14.5MB/s    in 1.0s    \n",
            "\n",
            "2019-03-10 22:35:39 (14.5 MB/s) - ‘ngrok-stable-linux-amd64.zip.2’ saved [14893410/14893410]\n",
            "\n",
            "Archive:  ngrok-stable-linux-amd64.zip\n",
            "replace ngrok? [y]es, [n]o, [A]ll, [N]one, [r]ename: n\n"
          ],
          "name": "stdout"
        }
      ]
    },
    {
      "metadata": {
        "id": "DApwTtp-A9Ao",
        "colab_type": "code",
        "colab": {}
      },
      "cell_type": "code",
      "source": [
        "LOG_DIR = 'content/fun/idog/AR_blocks_4_fea_8_IOU_0.1_norm_Tr'\n",
        "get_ipython().system_raw(\n",
        "    'tensorboard --logdir {} --host 0.0.0.0 --port 6006 &'\n",
        "    .format(LOG_DIR)\n",
        ")"
      ],
      "execution_count": 0,
      "outputs": []
    },
    {
      "metadata": {
        "id": "9Sg7jsXDDyl6",
        "colab_type": "code",
        "colab": {}
      },
      "cell_type": "code",
      "source": [
        "get_ipython().system_raw('./ngrok http 6006 &')\n"
      ],
      "execution_count": 0,
      "outputs": []
    },
    {
      "metadata": {
        "id": "WPOAy9LwDzf9",
        "colab_type": "code",
        "colab": {
          "base_uri": "https://localhost:8080/",
          "height": 34
        },
        "outputId": "2cf900e7-a9c3-4adc-acde-ed352840923c"
      },
      "cell_type": "code",
      "source": [
        "! curl -s http://localhost:4040/api/tunnels | python3 -c \\\n",
        "    \"import sys, json; print(json.load(sys.stdin)['tunnels'][0]['public_url'])\""
      ],
      "execution_count": 13,
      "outputs": [
        {
          "output_type": "stream",
          "text": [
            "https://8dde8443.ngrok.io\n"
          ],
          "name": "stdout"
        }
      ]
    },
    {
      "metadata": {
        "id": "ZGHJcKrDISvn",
        "colab_type": "code",
        "colab": {}
      },
      "cell_type": "code",
      "source": [
        "from glob import glob\n",
        "\n",
        "import sys\n",
        "sys.path.append(\"/content\")\n",
        "import cv2\n",
        "import tensorflow as tf\n",
        "import numpy as np\n",
        "from numpy.random import choice\n",
        "import os\n",
        "import random\n",
        "from albumentations import ShiftScaleRotate, ChannelShuffle, RGBShift, Compose\n",
        "from tqdm import tqdm_notebook \n",
        "\n",
        "import tensorflow as tf\n",
        "import numpy as np\n",
        "\n",
        "from tensorflow.nn import sigmoid\n",
        "from idog.detection.unet import get_loss, IOU\n",
        "\n",
        "\n",
        "from sklearn.utils import shuffle as sk_shuffle\n",
        "from tensorflow.data import Dataset\n",
        "from tensorflow.estimator import RunConfig\n",
        "from glob import glob\n",
        "from PIL import Image\n",
        "from idog.utils.mask_generator import get_padding\n",
        "\n",
        "from copy import copy\n",
        "\n",
        "from idog.detection.unet import make_unet\n",
        "import matplotlib.pyplot as plt"
      ],
      "execution_count": 0,
      "outputs": []
    },
    {
      "metadata": {
        "id": "RsuNUD7E1fEL",
        "colab_type": "code",
        "colab": {}
      },
      "cell_type": "code",
      "source": [
        "def augment(aug, image, mask):\n",
        "    res= aug(image=image, mask = mask)\n",
        "    image= res['image']\n",
        "    mask= res['mask']\n",
        "    return(image,mask)\n",
        "  \n",
        "def aug_srgb(p=0.5):\n",
        "  return Compose([\n",
        "      ShiftScaleRotate(p=1),\n",
        "      ChannelShuffle(p=1),\n",
        "      RGBShift(r_shift_limit=150, g_shift_limit=150, b_shift_limit=150)\n",
        "  ],p=p)"
      ],
      "execution_count": 0,
      "outputs": []
    },
    {
      "metadata": {
        "id": "2O2cSDZwK3-g",
        "colab_type": "code",
        "colab": {}
      },
      "cell_type": "code",
      "source": [
        "def generator(image_paths, mask_paths, image_shape=(2048, 1536), shuffle=True):\n",
        "    \"\"\"\n",
        "    Generator for Estimtor, create binary mask for it\n",
        "    :param image_paths: list: list of full path of the binary masks\n",
        "    :param watermark_paths: list: list of full path to pickle file with boxes\n",
        "    :param threshold: int: treshhold for binary masks\n",
        "    :param image_shape: (int, int): the size of image we want\n",
        "    :param shuffle: bool: shuffle or not data\n",
        "    :return: tuple(image,mask)\n",
        "    \"\"\"\n",
        "    if shuffle is True:\n",
        "        image_paths, mask_paths = sk_shuffle(image_paths, mask_paths)\n",
        "\n",
        "    for image_path, mask_path in zip(image_paths, mask_paths):\n",
        "\n",
        "        if type(image_path) == bytes:\n",
        "            image_path = image_path.decode()\n",
        "\n",
        "        if type(mask_path) == bytes:\n",
        "            mask_path = mask_path.decode()\n",
        "        \n",
        "        image = np.array(Image.open(image_path))\n",
        "        mask = cv2.imread(mask_path, cv2.IMREAD_GRAYSCALE)\n",
        "        \n",
        "        #image = get_padding(image, image_shape, 255)\n",
        "        #mask = get_padding(mask, image_shape, 0)\n",
        "        image = cv2.resize(image, (image_shape[1], image_shape[0]))\n",
        "        mask = cv2.resize(mask, (image_shape[1], image_shape[0]))\n",
        "        \n",
        "        i=0\n",
        "        for i in range(10):\n",
        "          aug = aug_srgb(p=1)\n",
        "          img,msk = augment(aug, image, mask)\n",
        "          img = np.array(img)/255\n",
        "          msk = msk[:,:,np.newaxis]\n",
        "          msk = np.array(msk)/255\n",
        "          yield img, msk\n",
        "            \n",
        "        image = np.array(image)/255\n",
        "        mask = mask[:,:,np.newaxis]\n",
        "        mask = np.array(mask)/255\n",
        "        \n",
        "        yield image, mask"
      ],
      "execution_count": 0,
      "outputs": []
    },
    {
      "metadata": {
        "id": "at5sZWscLZtw",
        "colab_type": "code",
        "colab": {}
      },
      "cell_type": "code",
      "source": [
        "def input_fn(image_paths, mask_paths, num_epochs=20, batch_size=2):\n",
        "    \"\"\"\n",
        "    input function for Estimator, uses the generator for this\n",
        "    :param binary_mask_paths: list: list of full paths of the images\n",
        "    :param boxes_paths: list: list of full path to pickle file with boxes\n",
        "    :param threshold: int: treshhold for binary masks\n",
        "    :param num_epochs: int: the number of epoch\n",
        "    :param batch_size: int: batch size\n",
        "    :return: tensorflow dataset for Estimator\n",
        "    \"\"\"\n",
        "    dataset = Dataset.from_generator(generator=generator, output_types=(tf.float32, tf.float32),\n",
        "                                     output_shapes=(tf.TensorShape([2048, 1536, 3]), tf.TensorShape([2048, 1536, 1])),\n",
        "                                     args=(image_paths, mask_paths))\n",
        "    dataset = dataset.repeat(num_epochs).batch(batch_size)\n",
        "\n",
        "    return dataset\n",
        "\n",
        "def create_summary(data):\n",
        "    \"\"\"\n",
        "    Create summary for the model\n",
        "    :param data: dict: two required keys - scalar and image, values -\n",
        "            lists of tuple with display name and elements of tf.graph\n",
        "    :return:\n",
        "    \"\"\"\n",
        "    for i in data[\"scalar\"]:\n",
        "        tf.summary.scalar(i[0], i[1])\n",
        "    for i in data[\"image\"]:\n",
        "        tf.summary.image(i[0], i[1])"
      ],
      "execution_count": 0,
      "outputs": []
    },
    {
      "metadata": {
        "id": "Tv75YikdLdG8",
        "colab_type": "code",
        "colab": {}
      },
      "cell_type": "code",
      "source": [
        "def make_unet_estimator(features, labels, mode, params):\n",
        "    \"\"\"\n",
        "    Creation of tf.estimator.Estimator for U-net\n",
        "    :param features: tf.Tensor: images\n",
        "    :param labels: tf.Tensor: masks\n",
        "    :param mode: tf.estimator.ModeKeys\n",
        "    :param params: dict: params of the model\n",
        "    :return: tf.estimator.EstimatorSpec\n",
        "    \"\"\"\n",
        "    orig_images = features\n",
        "    true_masks = labels\n",
        "    model = params[\"model\"]\n",
        "    net = model(orig_images, **params[\"model_params\"])\n",
        "    predictions = {\n",
        "        \"predicted_soft_masks\": sigmoid(net),\n",
        "        \"predicted_masks\": tf.round(sigmoid(net))\n",
        "    }\n",
        "    if mode == tf.estimator.ModeKeys.PREDICT:\n",
        "        return tf.estimator.EstimatorSpec(mode, predictions)\n",
        "\n",
        "    loss = get_loss(net, true_masks, lam=params[\"IOU_weight\"])\n",
        "\n",
        "    if params[\"create_summary\"]:\n",
        "        data = {\n",
        "            \"scalar\": [(\"Loss\", loss), (\"IOU\", IOU(net, true_masks))],\n",
        "            \"image\": [('Original image', orig_images),\n",
        "                      (\"Original_masks\", true_masks), (\"Predicted_masks\", sigmoid(net))]\n",
        "        }\n",
        "        create_summary(data)\n",
        "\n",
        "    if mode == tf.estimator.ModeKeys.TRAIN:\n",
        "        global_step = tf.train.get_or_create_global_step()\n",
        "        learning_rate = tf.train.exponential_decay(params[\"learning_rate\"], global_step,\n",
        "                                                   params[\"lr_decay_steps\"], params[\"lr_decay_rate\"], staircase=True)\n",
        "\n",
        "        update_ops = tf.get_collection(tf.GraphKeys.UPDATE_OPS)\n",
        "        optim = tf.train.AdamOptimizer(learning_rate=learning_rate)\n",
        "        with tf.control_dependencies(update_ops):\n",
        "            train_op = optim.minimize(loss, global_step=global_step)\n",
        "        return tf.estimator.EstimatorSpec(mode, loss=loss, train_op=train_op)\n",
        "\n",
        "    eval_metric_ops = {\"IOU\": tf.metrics.mean(IOU(net, labels))}\n",
        "\n",
        "    return tf.estimator.EstimatorSpec(mode, loss=loss, eval_metric_ops=eval_metric_ops)"
      ],
      "execution_count": 0,
      "outputs": []
    },
    {
      "metadata": {
        "id": "Y9QCRiN2LhU3",
        "colab_type": "code",
        "outputId": "7870de43-bd43-4b6e-8781-e06e32999e8b",
        "colab": {
          "base_uri": "https://localhost:8080/",
          "height": 1431
        }
      },
      "cell_type": "code",
      "source": [
        "image_paths = sorted(glob('/content/fun/DATA_segmentation_v2/images/*'), key=lambda x: int(x.split('/')[-1].split('.')[0]))\n",
        "mask_paths = sorted(glob('/content/fun/DATA_segmentation_v2/masks/*'), key=lambda x: int(x.split('/')[-1].split('.')[0]))\n",
        "\n",
        "\n",
        "number_for_train = -5\n",
        "train_paths_images = image_paths[:number_for_train]\n",
        "test_paths_images = image_paths[number_for_train:]\n",
        "\n",
        "train_paths_mask = mask_paths[:number_for_train]\n",
        "test_paths_mask = mask_paths[number_for_train:]\n",
        "\n",
        "model_params = {\"num_blocks\": 4,\n",
        "                \"num_filters\": 8,\n",
        "                \"batch_normalization\": True,\n",
        "                \"training\": True}\n",
        "params = {\"model\": make_unet,\n",
        "          \"model_params\": model_params,\n",
        "          \"IOU_weight\": 0.1,\n",
        "          \"learning_rate\": 0.001,\n",
        "          \"lr_decay_steps\": 1000,\n",
        "          \"lr_decay_rate\": 0.96,\n",
        "          \"create_summary\": True}\n",
        "\n",
        "\n",
        "strategy = tf.contrib.distribute.OneDeviceStrategy(device='/gpu:1')\n",
        "config = RunConfig(save_summary_steps=40,\n",
        "                   train_distribute=strategy,\n",
        "                   save_checkpoints_steps = 200,\n",
        "                   keep_checkpoint_max = 60,\n",
        "                   eval_distribute=strategy,\n",
        "                   )\n",
        "tf.logging.set_verbosity(tf.logging.INFO)\n",
        "\n",
        "segmentation_model = tf.estimator.Estimator(\n",
        "    model_fn=make_unet_estimator,\n",
        "    model_dir=\"./AR_blocks_4_fea_8_IOU_0.1_norm_Tr/\",\n",
        "    params=params,\n",
        "    config=config\n",
        ")\n",
        "\n",
        "train_params = {'image_paths': train_paths_images,\n",
        "          'mask_paths': train_paths_mask,\n",
        "          'batch_size': 2,\n",
        "          'num_epochs': 100\n",
        "          }\n",
        "val_params = {'image_paths': test_paths_images,\n",
        "                'mask_paths': test_paths_mask,\n",
        "                'batch_size': 2,\n",
        "                'num_epochs': 1\n",
        "                }\n",
        "\n",
        "train_spec = tf.estimator.TrainSpec(input_fn=lambda: input_fn(**train_params), max_steps = 75000)\n",
        "eval_spec = tf.estimator.EvalSpec(input_fn=lambda: input_fn(**val_params), throttle_secs=100, steps=200)\n",
        "tf.estimator.train_and_evaluate(segmentation_model, train_spec, eval_spec)\n",
        "\n",
        "segmentation_model.train(input_fn=lambda: input_fn(**params))"
      ],
      "execution_count": 0,
      "outputs": [
        {
          "output_type": "stream",
          "text": [
            "INFO:tensorflow:Initializing RunConfig with distribution strategies.\n",
            "INFO:tensorflow:Not using Distribute Coordinator.\n",
            "INFO:tensorflow:Using config: {'_model_dir': './AR_blocks_4_fea_8_IOU_0.1_norm_Tr/', '_tf_random_seed': None, '_save_summary_steps': 40, '_save_checkpoints_steps': 200, '_save_checkpoints_secs': None, '_session_config': allow_soft_placement: true\n",
            "graph_options {\n",
            "  rewrite_options {\n",
            "    meta_optimizer_iterations: ONE\n",
            "  }\n",
            "}\n",
            ", '_keep_checkpoint_max': 60, '_keep_checkpoint_every_n_hours': 10000, '_log_step_count_steps': 100, '_train_distribute': <tensorflow.contrib.distribute.python.one_device_strategy.OneDeviceStrategy object at 0x7fb5e865f9e8>, '_device_fn': None, '_protocol': None, '_eval_distribute': <tensorflow.contrib.distribute.python.one_device_strategy.OneDeviceStrategy object at 0x7fb5e865f9e8>, '_experimental_distribute': None, '_service': None, '_cluster_spec': <tensorflow.python.training.server_lib.ClusterSpec object at 0x7fb5e865fb00>, '_task_type': 'worker', '_task_id': 0, '_global_id_in_cluster': 0, '_master': '', '_evaluation_master': '', '_is_chief': True, '_num_ps_replicas': 0, '_num_worker_replicas': 1, '_distribute_coordinator_mode': None}\n",
            "INFO:tensorflow:Not using Distribute Coordinator.\n",
            "INFO:tensorflow:Running training and evaluation locally (non-distributed).\n",
            "INFO:tensorflow:Start train and evaluate loop. The evaluate will happen after every checkpoint. Checkpoint frequency is determined based on RunConfig arguments: save_checkpoints_steps 200 or save_checkpoints_secs None.\n",
            "INFO:tensorflow:Calling model_fn.\n",
            "INFO:tensorflow:Summary name Original image is illegal; using Original_image instead.\n",
            "INFO:tensorflow:Done calling model_fn.\n",
            "INFO:tensorflow:Create CheckpointSaverHook.\n",
            "INFO:tensorflow:Graph was finalized.\n",
            "INFO:tensorflow:Restoring parameters from ./AR_blocks_4_fea_8_IOU_0.1_norm_Tr/model.ckpt-3800\n",
            "INFO:tensorflow:Running local_init_op.\n",
            "INFO:tensorflow:Done running local_init_op.\n",
            "INFO:tensorflow:Saving checkpoints for 3800 into ./AR_blocks_4_fea_8_IOU_0.1_norm_Tr/model.ckpt.\n",
            "INFO:tensorflow:Initialize strategy\n",
            "INFO:tensorflow:loss = 0.5634884, step = 3800\n",
            "INFO:tensorflow:global_step/sec: 0.716857\n",
            "INFO:tensorflow:loss = -0.019182362, step = 3900 (139.493 sec)\n",
            "INFO:tensorflow:Saving checkpoints for 4000 into ./AR_blocks_4_fea_8_IOU_0.1_norm_Tr/model.ckpt.\n",
            "INFO:tensorflow:Calling model_fn.\n",
            "INFO:tensorflow:Summary name Original image is illegal; using Original_image instead.\n",
            "INFO:tensorflow:Done calling model_fn.\n",
            "INFO:tensorflow:Starting evaluation at 2019-03-10T22:41:18Z\n",
            "INFO:tensorflow:Graph was finalized.\n",
            "INFO:tensorflow:Restoring parameters from ./AR_blocks_4_fea_8_IOU_0.1_norm_Tr/model.ckpt-4000\n",
            "INFO:tensorflow:Running local_init_op.\n",
            "INFO:tensorflow:Done running local_init_op.\n",
            "INFO:tensorflow:Initialize strategy\n",
            "INFO:tensorflow:Evaluation [20/200]\n",
            "INFO:tensorflow:Finalize strategy.\n",
            "INFO:tensorflow:Finished evaluation at 2019-03-10-22:41:36\n",
            "INFO:tensorflow:Saving dict for global step 4000: IOU = 0.8771052, global_step = 4000, loss = 0.0075463033\n",
            "INFO:tensorflow:Saving 'checkpoint_path' summary for global step 4000: ./AR_blocks_4_fea_8_IOU_0.1_norm_Tr/model.ckpt-4000\n",
            "INFO:tensorflow:global_step/sec: 0.623651\n",
            "INFO:tensorflow:loss = 0.16992658, step = 4000 (160.356 sec)\n",
            "INFO:tensorflow:global_step/sec: 0.72434\n",
            "INFO:tensorflow:loss = 0.10275621, step = 4100 (138.047 sec)\n",
            "INFO:tensorflow:Saving checkpoints for 4200 into ./AR_blocks_4_fea_8_IOU_0.1_norm_Tr/model.ckpt.\n",
            "INFO:tensorflow:Calling model_fn.\n",
            "INFO:tensorflow:Summary name Original image is illegal; using Original_image instead.\n",
            "INFO:tensorflow:Done calling model_fn.\n",
            "INFO:tensorflow:Starting evaluation at 2019-03-10T22:46:18Z\n",
            "INFO:tensorflow:Graph was finalized.\n",
            "INFO:tensorflow:Restoring parameters from ./AR_blocks_4_fea_8_IOU_0.1_norm_Tr/model.ckpt-4200\n",
            "INFO:tensorflow:Running local_init_op.\n",
            "INFO:tensorflow:Done running local_init_op.\n",
            "INFO:tensorflow:Initialize strategy\n",
            "INFO:tensorflow:Evaluation [20/200]\n",
            "INFO:tensorflow:Finalize strategy.\n",
            "INFO:tensorflow:Finished evaluation at 2019-03-10-22:46:36\n",
            "INFO:tensorflow:Saving dict for global step 4200: IOU = 0.9079496, global_step = 4200, loss = -0.002700648\n",
            "INFO:tensorflow:Saving 'checkpoint_path' summary for global step 4200: ./AR_blocks_4_fea_8_IOU_0.1_norm_Tr/model.ckpt-4200\n",
            "INFO:tensorflow:global_step/sec: 0.621063\n",
            "INFO:tensorflow:loss = -0.06394154, step = 4200 (161.025 sec)\n",
            "INFO:tensorflow:global_step/sec: 0.730329\n",
            "INFO:tensorflow:loss = -0.060065407, step = 4300 (136.915 sec)\n",
            "INFO:tensorflow:Saving checkpoints for 4400 into ./AR_blocks_4_fea_8_IOU_0.1_norm_Tr/model.ckpt.\n",
            "INFO:tensorflow:Calling model_fn.\n",
            "INFO:tensorflow:Summary name Original image is illegal; using Original_image instead.\n",
            "INFO:tensorflow:Done calling model_fn.\n",
            "INFO:tensorflow:Starting evaluation at 2019-03-10T22:51:15Z\n",
            "INFO:tensorflow:Graph was finalized.\n",
            "INFO:tensorflow:Restoring parameters from ./AR_blocks_4_fea_8_IOU_0.1_norm_Tr/model.ckpt-4400\n",
            "INFO:tensorflow:Running local_init_op.\n",
            "INFO:tensorflow:Done running local_init_op.\n",
            "INFO:tensorflow:Initialize strategy\n",
            "INFO:tensorflow:Evaluation [20/200]\n",
            "INFO:tensorflow:Finalize strategy.\n",
            "INFO:tensorflow:Finished evaluation at 2019-03-10-22:51:34\n",
            "INFO:tensorflow:Saving dict for global step 4400: IOU = 0.91849166, global_step = 4400, loss = -0.023197725\n",
            "INFO:tensorflow:Saving 'checkpoint_path' summary for global step 4400: ./AR_blocks_4_fea_8_IOU_0.1_norm_Tr/model.ckpt-4400\n",
            "INFO:tensorflow:global_step/sec: 0.61923\n",
            "INFO:tensorflow:loss = -0.05981903, step = 4400 (161.502 sec)\n",
            "INFO:tensorflow:global_step/sec: 0.732632\n",
            "INFO:tensorflow:loss = -0.018077813, step = 4500 (136.484 sec)\n"
          ],
          "name": "stdout"
        }
      ]
    },
    {
      "metadata": {
        "id": "8qQbY4hKCwbE",
        "colab_type": "code",
        "colab": {}
      },
      "cell_type": "code",
      "source": [
        "def image_generator(image_paths, image_shape=(1920, 1280)):\n",
        "    \"\"\"\n",
        "    Generator for Estimtor, create binary mask for it\n",
        "\n",
        "    :param image_paths: list: list of full path of the binary masks\n",
        "    :param watermark_paths: list: list of full path to pickle file with boxes\n",
        "    :param threshold: int: treshhold for binary masks\n",
        "    :param image_shape: (int, int): the size of image we want\n",
        "    :param shuffle: bool: shuffle or not data\n",
        "    :return: tuple(image,mask)\n",
        "    \"\"\"\n",
        "\n",
        "    for image_path in image_paths:\n",
        "\n",
        "        if type(image_path) == bytes:\n",
        "            image_path = image_path.decode()\n",
        "\n",
        "        image = np.array(Image.open(image_path))\n",
        "        \n",
        "        #image = get_padding(image, image_shape, 255)\n",
        "        #mask = get_padding(mask, image_shape, 0)\n",
        "        image = cv2.resize(image, (image_shape[1], image_shape[0]))\n",
        "        \n",
        "        image = np.array(image)/255\n",
        "        #mask = np.array(mask>0)\n",
        "        yield image"
      ],
      "execution_count": 0,
      "outputs": []
    },
    {
      "metadata": {
        "id": "tk54Q-dHqj0S",
        "colab_type": "code",
        "colab": {}
      },
      "cell_type": "code",
      "source": [
        "def image_input_fn(image_paths, num_epochs=1, batch_size=5):\n",
        "    \"\"\"\n",
        "    input function for Estimator, uses the generator for this\n",
        "\n",
        "    :param binary_mask_paths: list: list of full paths of the images\n",
        "    :param boxes_paths: list: list of full path to pickle file with boxes\n",
        "    :param threshold: int: treshhold for binary masks\n",
        "    :param num_epochs: int: the number of epoch\n",
        "    :param batch_size: int: batch size\n",
        "    :return: tensorflow dataset for Estimator\n",
        "    \"\"\"\n",
        "    dataset = Dataset.from_generator(generator=image_generator, output_types=tf.float32,\n",
        "                                     output_shapes=(tf.TensorShape([1920, 1280, 3])),\n",
        "                                     args=(image_paths,))\n",
        "    dataset = dataset.repeat(num_epochs).batch(batch_size)\n",
        "\n",
        "    return dataset"
      ],
      "execution_count": 0,
      "outputs": []
    },
    {
      "metadata": {
        "id": "ahzgEepMr2Ao",
        "colab_type": "code",
        "colab": {}
      },
      "cell_type": "code",
      "source": [
        "winil = sorted(glob('/content/fun/DATA_segmentation_v2/images/*'), key=lambda x: int(x.split('/')[-1].split('.')[0]))\n"
      ],
      "execution_count": 0,
      "outputs": []
    },
    {
      "metadata": {
        "id": "V2T0QhcgqmUq",
        "colab_type": "code",
        "colab": {}
      },
      "cell_type": "code",
      "source": [
        "params = {'image_paths': test_paths_images}\n",
        "pred = segmentation_model.predict(\n",
        "    input_fn=lambda: image_input_fn(**params),\n",
        "    predict_keys='predicted_masks',\n",
        "    checkpoint_path=None\n",
        ")"
      ],
      "execution_count": 0,
      "outputs": []
    },
    {
      "metadata": {
        "id": "cp6DsARQq2DK",
        "colab_type": "code",
        "colab": {}
      },
      "cell_type": "code",
      "source": [
        "pred_sample = next(pred)"
      ],
      "execution_count": 0,
      "outputs": []
    },
    {
      "metadata": {
        "id": "8cpoYE8zq35n",
        "colab_type": "code",
        "colab": {}
      },
      "cell_type": "code",
      "source": [
        "pred_sample = pred_sample['predicted_masks'][:,:,0]\n",
        "pred_sample = np.array(pred_sample, dtype='uint8')"
      ],
      "execution_count": 0,
      "outputs": []
    },
    {
      "metadata": {
        "id": "N-HE3BqVq92i",
        "colab_type": "code",
        "colab": {
          "base_uri": "https://localhost:8080/",
          "height": 884
        },
        "outputId": "97ec4ce9-c840-489a-c7dd-bdbd3401d962"
      },
      "cell_type": "code",
      "source": [
        "plt.figure(figsize=(10, 15))\n",
        "plt.imshow(pred_sample, 'Greys_r')"
      ],
      "execution_count": 244,
      "outputs": [
        {
          "output_type": "execute_result",
          "data": {
            "text/plain": [
              "<matplotlib.image.AxesImage at 0x7f6e38bb8048>"
            ]
          },
          "metadata": {
            "tags": []
          },
          "execution_count": 244
        },
        {
          "output_type": "display_data",
          "data": {
            "image/png": "[encoded data removed]",
            "text/plain": [
              "<Figure size 720x1080 with 1 Axes>"
            ]
          },
          "metadata": {
            "tags": []
          }
        }
      ]
    },
    {
      "metadata": {
        "id": "Qt7oc6c9TkLA",
        "colab_type": "code",
        "colab": {}
      },
      "cell_type": "code",
      "source": [
        ""
      ],
      "execution_count": 0,
      "outputs": []
    }
  ]
}