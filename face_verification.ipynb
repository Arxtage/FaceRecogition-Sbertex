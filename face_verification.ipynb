{
 "cells": [
  {
   "cell_type": "code",
   "execution_count": 4,
   "metadata": {
    "collapsed": true
   },
   "outputs": [],
   "source": [
    "import face_recognition\n",
    "import os\n",
    "import pickle\n",
    "import numpy as np"
   ]
  },
  {
   "cell_type": "code",
   "execution_count": 5,
   "metadata": {
    "collapsed": true
   },
   "outputs": [],
   "source": [
    "class Face():\n",
    "    def __init__(self):\n",
    "        self.IMAGES = []\n",
    "        self.MAX_COUNT = 60\n",
    "        self.encodings = []\n",
    "\n",
    "    def webcam(self):\n",
    "        import cv2\n",
    "        self.IMAGES = []\n",
    "        face_detector = cv2.CascadeClassifier(\n",
    "            'haarcascade_frontalface_default.xml')\n",
    "        font = cv2.FONT_HERSHEY_SIMPLEX\n",
    "        cv2.namedWindow('preview')\n",
    "        cv2.startWindowThread()\n",
    "        vc = cv2.VideoCapture(0)\n",
    "        count = 0\n",
    "        while vc.isOpened():\n",
    "            if count < self.MAX_COUNT // 3:\n",
    "                id = 'Plain face'\n",
    "            elif count < 2 * self.MAX_COUNT // 3:\n",
    "                id = 'Show me your smile'\n",
    "            else:\n",
    "                id = 'Turn up your head'\n",
    "            img = vc.read()[1]\n",
    "            gray = cv2.cvtColor(img, cv2.COLOR_BGR2GRAY)\n",
    "            faces = face_detector.detectMultiScale(\n",
    "                gray,\n",
    "                scaleFactor=1.2,\n",
    "                minNeighbors=5,\n",
    "                minSize=(20, 20)\n",
    "            )\n",
    "            for x, y, w, h in faces:\n",
    "                cv2.rectangle(img, (x, y), (x + w, y + h), (255, 0, 0), 2)\n",
    "                cv2.putText(img, id, (x + 30, y + w + 30), font, 1, (255, 255,\n",
    "                                                                     255), 2)\n",
    "            self.IMAGES.append(img)\n",
    "            cv2.imshow('preview', img)\n",
    "            key = cv2.waitKey(100)\n",
    "            if count == self.MAX_COUNT or key == 27: # exit on ESC\n",
    "                break\n",
    "            count += 1\n",
    "        cv2.destroyWindow('preview')\n",
    "\n",
    "\n",
    "    def get_faces(self):\n",
    "        from tqdm import tqdm\n",
    "        self.encodings = []\n",
    "        for _ in tqdm(self.IMAGES, 'encoding'):\n",
    "            self.encodings += face_recognition.face_encodings(_)[:1]\n",
    "\n",
    "    def test_faces(self):\n",
    "        import random\n",
    "        random.shuffle(self.encodings)\n",
    "        part = round(len(self.encodings) * 0.75)\n",
    "        train = self.encodings[:part]\n",
    "        test = self.encodings[part:]\n",
    "        for _ in test:\n",
    "            if min(face_recognition.face_distance(train, _)) > 0.6:\n",
    "                raise ValueError(\"We can't recognize you always\")\n",
    "        print('Faces are valid')\n",
    "\n",
    "    def dump(self, id):\n",
    "        dirname = 'data'\n",
    "        os.makedirs(dirname, exist_ok=True)\n",
    "        length = len(self.encodings)\n",
    "        ans = np.empty((length, length))\n",
    "        for i, _ in enumerate(self.encodings):\n",
    "            ans[i] = face_recognition.face_distance(self.encodings, _)\n",
    "        with open(self.filename(id), 'wb') as f:\n",
    "            pickle.dump((ans.mean(), ans.std(), self.encodings), f)\n",
    "\n",
    "    def filename(self, id):\n",
    "        dirname = 'data'\n",
    "        os.makedirs(dirname, exist_ok=True)\n",
    "        return os.path.join('data', f'{id}.pkl')\n",
    "\n",
    "    def compare_id_face(self, id, pic):\n",
    "        img = face_recognition.load_image_file(pic)\n",
    "        try:\n",
    "            enc = face_recognition.face_encodings(img)[0]\n",
    "        except IndexError:\n",
    "            raise IndexError('Face in your photo is unrecognizable')\n",
    "        with open(self.filename(id), 'rb') as f:\n",
    "            mean, std, e = pickle.load(f)\n",
    "            L = face_recognition.face_distance(e, enc)\n",
    "        num = (L < 0.6).sum()\n",
    "        length = len(L)\n",
    "        if num < length // 6:\n",
    "            return False\n",
    "        if num > 5 * length // 6:\n",
    "            return True\n",
    "        return (abs(L.mean() - mean) / (std + L.std())) < 1"
   ]
  },
  {
   "cell_type": "code",
   "execution_count": 6,
   "metadata": {},
   "outputs": [
    {
     "name": "stderr",
     "output_type": "stream",
     "text": [
      "encoding: 100%|██████████| 61/61 [00:30<00:00,  1.98it/s]\n"
     ]
    },
    {
     "name": "stdout",
     "output_type": "stream",
     "text": [
      "Faces are valid\n",
      "False\n",
      "False\n",
      "False\n",
      "False\n",
      "False\n",
      "False\n",
      "False\n",
      "True\n"
     ]
    }
   ],
   "source": [
    "face = Face()\n",
    "face.webcam()\n",
    "face.get_faces()\n",
    "face.test_faces()\n",
    "face.dump(50)\n",
    "\n",
    "print(face.compare_id_face(50, '1.jpg'))\n",
    "print(face.compare_id_face(50, '2.jpg'))\n",
    "print(face.compare_id_face(50, '3.jpg'))\n",
    "print(face.compare_id_face(50, '4.jpg'))\n",
    "print(face.compare_id_face(50, '5.jpg'))\n",
    "print(face.compare_id_face(50, '6.jpg'))\n",
    "print(face.compare_id_face(50, '7.jpg'))\n",
    "print(face.compare_id_face(50, '8.jpg'))"
   ]
  },
  {
   "cell_type": "code",
   "execution_count": null,
   "metadata": {
    "collapsed": true
   },
   "outputs": [],
   "source": []
  }
 ],
 "metadata": {
  "kernelspec": {
   "display_name": "Python 3",
   "language": "python",
   "name": "python3"
  },
  "language_info": {
   "codemirror_mode": {
    "name": "ipython",
    "version": 3
   },
   "file_extension": ".py",
   "mimetype": "text/x-python",
   "name": "python",
   "nbconvert_exporter": "python",
   "pygments_lexer": "ipython3",
   "version": "3.6.3"
  }
 },
 "nbformat": 4,
 "nbformat_minor": 2
}
